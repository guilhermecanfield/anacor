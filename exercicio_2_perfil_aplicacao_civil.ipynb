{
 "cells": [
  {
   "cell_type": "code",
   "execution_count": 1,
   "metadata": {},
   "outputs": [],
   "source": [
    "# Importando os pacotes necessários\n",
    "\n",
    "import pandas as pd\n",
    "import numpy as np\n",
    "from scipy.stats import chi2_contingency\n",
    "import statsmodels.api as sm\n",
    "import seaborn as sns\n",
    "import matplotlib.pyplot as plt\n",
    "import prince\n",
    "import plotly.io as pio\n",
    "import plotly.graph_objects as go"
   ]
  },
  {
   "cell_type": "markdown",
   "metadata": {},
   "source": [
    "## Análise de Correspondência Múltipla (MCA)"
   ]
  },
  {
   "cell_type": "code",
   "execution_count": 2,
   "metadata": {},
   "outputs": [],
   "source": [
    "# Importando o banco de dados\n",
    "\n",
    "perfil_mca = pd.read_excel(\"data/perfil_aplicacao_civil.xlsx\")"
   ]
  },
  {
   "cell_type": "code",
   "execution_count": 3,
   "metadata": {},
   "outputs": [],
   "source": [
    "# Selecionando apenas as variáveis que farão parte da análise\n",
    "\n",
    "dados_mca = perfil_mca.drop(columns=['estudante'])"
   ]
  },
  {
   "cell_type": "code",
   "execution_count": 4,
   "metadata": {},
   "outputs": [
    {
     "name": "stdout",
     "output_type": "stream",
     "text": [
      "perfil\n",
      "Agressivo      58\n",
      "Moderado       25\n",
      "Conservador    17\n",
      "Name: count, dtype: int64 \n",
      "\n",
      "aplicacao\n",
      "Acoes       45\n",
      "CDB         40\n",
      "Poupanca    15\n",
      "Name: count, dtype: int64 \n",
      "\n",
      "estado.civil\n",
      "Solteiro    57\n",
      "Casado      43\n",
      "Name: count, dtype: int64 \n",
      "\n"
     ]
    }
   ],
   "source": [
    "# Informações descritivas sobre as variáveis\n",
    "\n",
    "for col in ['perfil', 'aplicacao', 'estado.civil']:\n",
    "    print(dados_mca[col].value_counts(), '\\n')"
   ]
  },
  {
   "cell_type": "code",
   "execution_count": 9,
   "metadata": {},
   "outputs": [
    {
     "name": "stdout",
     "output_type": "stream",
     "text": [
      "aplicacao    Acoes  CDB  Poupanca\n",
      "perfil                           \n",
      "Agressivo       36   20         2\n",
      "Conservador      5    4         8\n",
      "Moderado         4   16         5 \n",
      "\n",
      "estado.civil  Casado  Solteiro\n",
      "perfil                        \n",
      "Agressivo         17        41\n",
      "Conservador       12         5\n",
      "Moderado          14        11 \n",
      "\n",
      "estado.civil  Casado  Solteiro\n",
      "aplicacao                     \n",
      "Acoes              9        36\n",
      "CDB               24        16\n",
      "Poupanca          10         5 \n",
      "\n"
     ]
    }
   ],
   "source": [
    "# Analisando as tabelas de contingência\n",
    "\n",
    "tabela_mca_1 = pd.crosstab(dados_mca[\"perfil\"], dados_mca[\"aplicacao\"])\n",
    "tabela_mca_2 = pd.crosstab(dados_mca[\"perfil\"], dados_mca[\"estado.civil\"])\n",
    "tabela_mca_3 = pd.crosstab(dados_mca[\"aplicacao\"], dados_mca[\"estado.civil\"])\n",
    "\n",
    "print(tabela_mca_1, '\\n')\n",
    "print(tabela_mca_2, '\\n')\n",
    "print(tabela_mca_3, '\\n')"
   ]
  },
  {
   "cell_type": "code",
   "execution_count": 14,
   "metadata": {},
   "outputs": [
    {
     "name": "stdout",
     "output_type": "stream",
     "text": [
      "Associação Perfil x Aplicação\n",
      "estatística qui²: 31.76\n",
      "p-valor da estatística: 0.0\n",
      "graus de liberdade: 4 \n",
      "\n",
      "----------------------------------------\n",
      "Associação Perfil x Estado Civil\n",
      "estatística qui²: 11.44\n",
      "p-valor da estatística: 0.0033\n",
      "graus de liberdade: 2 \n",
      "\n",
      "----------------------------------------\n",
      "Associação Aplicação x Estado Civil\n",
      "estatística qui²: 17.86\n",
      "p-valor da estatística: 0.0001\n",
      "graus de liberdade: 2 \n",
      "\n",
      "----------------------------------------\n"
     ]
    }
   ],
   "source": [
    "# Analisando a significância estatística das associações (teste qui²)\n",
    "\n",
    "tab_1 = chi2_contingency(tabela_mca_1)\n",
    "\n",
    "print(\"Associação Perfil x Aplicação\")\n",
    "print(f\"estatística qui²: {round(tab_1[0], 2)}\")\n",
    "print(f\"p-valor da estatística: {round(tab_1[1], 4)}\")\n",
    "print(f\"graus de liberdade: {tab_1[2]}\", '\\n')\n",
    "print('-'*40)\n",
    "\n",
    "tab_2 = chi2_contingency(tabela_mca_2)\n",
    "\n",
    "print(\"Associação Perfil x Estado Civil\")\n",
    "print(f\"estatística qui²: {round(tab_2[0], 2)}\")\n",
    "print(f\"p-valor da estatística: {round(tab_2[1], 4)}\")\n",
    "print(f\"graus de liberdade: {tab_2[2]}\", '\\n')\n",
    "print('-'*40)\n",
    "\n",
    "tab_3 = chi2_contingency(tabela_mca_3)\n",
    "\n",
    "print(\"Associação Aplicação x Estado Civil\")\n",
    "print(f\"estatística qui²: {round(tab_3[0], 2)}\")\n",
    "print(f\"p-valor da estatística: {round(tab_3[1], 4)}\")\n",
    "print(f\"graus de liberdade: {tab_3[2]}\", '\\n')\n",
    "print('-'*40)"
   ]
  },
  {
   "cell_type": "code",
   "execution_count": 47,
   "metadata": {},
   "outputs": [],
   "source": [
    "# Elaborando a MCA\n",
    "\n",
    "mca = prince.MCA(n_components=2).fit(dados_mca)\n",
    "\n",
    "# Vamos parametrizar a MCA para duas dimensões (eixos X e Y no mapa perceptual)\n",
    "# Note que o input é o próprio banco de dados com as variáveis categóricas"
   ]
  },
  {
   "cell_type": "markdown",
   "metadata": {},
   "source": [
    "## Quantidade total de dimensões\n",
    "\n",
    "### Quantidade de dimensões = qtde total de categorias - qtde de variáveis"
   ]
  },
  {
   "cell_type": "code",
   "execution_count": 48,
   "metadata": {},
   "outputs": [
    {
     "data": {
      "text/plain": [
       "8"
      ]
     },
     "execution_count": 48,
     "metadata": {},
     "output_type": "execute_result"
    }
   ],
   "source": [
    "# Quantidade total de categorias\n",
    "mca.J_"
   ]
  },
  {
   "cell_type": "code",
   "execution_count": 49,
   "metadata": {},
   "outputs": [
    {
     "data": {
      "text/plain": [
       "3"
      ]
     },
     "execution_count": 49,
     "metadata": {},
     "output_type": "execute_result"
    }
   ],
   "source": [
    "# Quantidade de variáveis na análise\n",
    "mca.K_"
   ]
  },
  {
   "cell_type": "code",
   "execution_count": 50,
   "metadata": {},
   "outputs": [],
   "source": [
    "# Quantidade de dimensões\n",
    "quant_dim = mca.J_ - mca.K_"
   ]
  },
  {
   "cell_type": "code",
   "execution_count": 51,
   "metadata": {},
   "outputs": [
    {
     "name": "stdout",
     "output_type": "stream",
     "text": [
      "quantidade total de categorias: 8\n",
      "quantidade de variáveis: 3\n",
      "quantidade de dimensões: 5\n"
     ]
    }
   ],
   "source": [
    "# Resumo das informações\n",
    "print(f\"quantidade total de categorias: {mca.J_}\")\n",
    "print(f\"quantidade de variáveis: {mca.K_}\")\n",
    "print(f\"quantidade de dimensões: {quant_dim}\")"
   ]
  },
  {
   "cell_type": "markdown",
   "metadata": {},
   "source": [
    "## Visualizando as matrizes: binária e Burt"
   ]
  },
  {
   "cell_type": "code",
   "execution_count": 52,
   "metadata": {},
   "outputs": [
    {
     "data": {
      "text/html": [
       "<div>\n",
       "<style scoped>\n",
       "    .dataframe tbody tr th:only-of-type {\n",
       "        vertical-align: middle;\n",
       "    }\n",
       "\n",
       "    .dataframe tbody tr th {\n",
       "        vertical-align: top;\n",
       "    }\n",
       "\n",
       "    .dataframe thead th {\n",
       "        text-align: right;\n",
       "    }\n",
       "</style>\n",
       "<table border=\"1\" class=\"dataframe\">\n",
       "  <thead>\n",
       "    <tr style=\"text-align: right;\">\n",
       "      <th></th>\n",
       "      <th>perfil_Agressivo</th>\n",
       "      <th>perfil_Conservador</th>\n",
       "      <th>perfil_Moderado</th>\n",
       "      <th>aplicacao_Acoes</th>\n",
       "      <th>aplicacao_CDB</th>\n",
       "      <th>aplicacao_Poupanca</th>\n",
       "      <th>estado.civil_Casado</th>\n",
       "      <th>estado.civil_Solteiro</th>\n",
       "    </tr>\n",
       "  </thead>\n",
       "  <tbody>\n",
       "    <tr>\n",
       "      <th>0</th>\n",
       "      <td>0.0</td>\n",
       "      <td>1.0</td>\n",
       "      <td>0.0</td>\n",
       "      <td>0.0</td>\n",
       "      <td>0.0</td>\n",
       "      <td>1.0</td>\n",
       "      <td>1.0</td>\n",
       "      <td>0.0</td>\n",
       "    </tr>\n",
       "    <tr>\n",
       "      <th>1</th>\n",
       "      <td>0.0</td>\n",
       "      <td>1.0</td>\n",
       "      <td>0.0</td>\n",
       "      <td>0.0</td>\n",
       "      <td>0.0</td>\n",
       "      <td>1.0</td>\n",
       "      <td>1.0</td>\n",
       "      <td>0.0</td>\n",
       "    </tr>\n",
       "    <tr>\n",
       "      <th>2</th>\n",
       "      <td>0.0</td>\n",
       "      <td>1.0</td>\n",
       "      <td>0.0</td>\n",
       "      <td>0.0</td>\n",
       "      <td>0.0</td>\n",
       "      <td>1.0</td>\n",
       "      <td>1.0</td>\n",
       "      <td>0.0</td>\n",
       "    </tr>\n",
       "    <tr>\n",
       "      <th>3</th>\n",
       "      <td>0.0</td>\n",
       "      <td>1.0</td>\n",
       "      <td>0.0</td>\n",
       "      <td>0.0</td>\n",
       "      <td>0.0</td>\n",
       "      <td>1.0</td>\n",
       "      <td>0.0</td>\n",
       "      <td>1.0</td>\n",
       "    </tr>\n",
       "    <tr>\n",
       "      <th>4</th>\n",
       "      <td>0.0</td>\n",
       "      <td>1.0</td>\n",
       "      <td>0.0</td>\n",
       "      <td>0.0</td>\n",
       "      <td>0.0</td>\n",
       "      <td>1.0</td>\n",
       "      <td>1.0</td>\n",
       "      <td>0.0</td>\n",
       "    </tr>\n",
       "    <tr>\n",
       "      <th>...</th>\n",
       "      <td>...</td>\n",
       "      <td>...</td>\n",
       "      <td>...</td>\n",
       "      <td>...</td>\n",
       "      <td>...</td>\n",
       "      <td>...</td>\n",
       "      <td>...</td>\n",
       "      <td>...</td>\n",
       "    </tr>\n",
       "    <tr>\n",
       "      <th>95</th>\n",
       "      <td>1.0</td>\n",
       "      <td>0.0</td>\n",
       "      <td>0.0</td>\n",
       "      <td>1.0</td>\n",
       "      <td>0.0</td>\n",
       "      <td>0.0</td>\n",
       "      <td>0.0</td>\n",
       "      <td>1.0</td>\n",
       "    </tr>\n",
       "    <tr>\n",
       "      <th>96</th>\n",
       "      <td>1.0</td>\n",
       "      <td>0.0</td>\n",
       "      <td>0.0</td>\n",
       "      <td>1.0</td>\n",
       "      <td>0.0</td>\n",
       "      <td>0.0</td>\n",
       "      <td>0.0</td>\n",
       "      <td>1.0</td>\n",
       "    </tr>\n",
       "    <tr>\n",
       "      <th>97</th>\n",
       "      <td>1.0</td>\n",
       "      <td>0.0</td>\n",
       "      <td>0.0</td>\n",
       "      <td>1.0</td>\n",
       "      <td>0.0</td>\n",
       "      <td>0.0</td>\n",
       "      <td>0.0</td>\n",
       "      <td>1.0</td>\n",
       "    </tr>\n",
       "    <tr>\n",
       "      <th>98</th>\n",
       "      <td>1.0</td>\n",
       "      <td>0.0</td>\n",
       "      <td>0.0</td>\n",
       "      <td>1.0</td>\n",
       "      <td>0.0</td>\n",
       "      <td>0.0</td>\n",
       "      <td>0.0</td>\n",
       "      <td>1.0</td>\n",
       "    </tr>\n",
       "    <tr>\n",
       "      <th>99</th>\n",
       "      <td>1.0</td>\n",
       "      <td>0.0</td>\n",
       "      <td>0.0</td>\n",
       "      <td>1.0</td>\n",
       "      <td>0.0</td>\n",
       "      <td>0.0</td>\n",
       "      <td>0.0</td>\n",
       "      <td>1.0</td>\n",
       "    </tr>\n",
       "  </tbody>\n",
       "</table>\n",
       "<p>100 rows × 8 columns</p>\n",
       "</div>"
      ],
      "text/plain": [
       "    perfil_Agressivo  perfil_Conservador  perfil_Moderado  aplicacao_Acoes  \\\n",
       "0                0.0                 1.0              0.0              0.0   \n",
       "1                0.0                 1.0              0.0              0.0   \n",
       "2                0.0                 1.0              0.0              0.0   \n",
       "3                0.0                 1.0              0.0              0.0   \n",
       "4                0.0                 1.0              0.0              0.0   \n",
       "..               ...                 ...              ...              ...   \n",
       "95               1.0                 0.0              0.0              1.0   \n",
       "96               1.0                 0.0              0.0              1.0   \n",
       "97               1.0                 0.0              0.0              1.0   \n",
       "98               1.0                 0.0              0.0              1.0   \n",
       "99               1.0                 0.0              0.0              1.0   \n",
       "\n",
       "    aplicacao_CDB  aplicacao_Poupanca  estado.civil_Casado  \\\n",
       "0             0.0                 1.0                  1.0   \n",
       "1             0.0                 1.0                  1.0   \n",
       "2             0.0                 1.0                  1.0   \n",
       "3             0.0                 1.0                  0.0   \n",
       "4             0.0                 1.0                  1.0   \n",
       "..            ...                 ...                  ...   \n",
       "95            0.0                 0.0                  0.0   \n",
       "96            0.0                 0.0                  0.0   \n",
       "97            0.0                 0.0                  0.0   \n",
       "98            0.0                 0.0                  0.0   \n",
       "99            0.0                 0.0                  0.0   \n",
       "\n",
       "    estado.civil_Solteiro  \n",
       "0                     0.0  \n",
       "1                     0.0  \n",
       "2                     0.0  \n",
       "3                     1.0  \n",
       "4                     0.0  \n",
       "..                    ...  \n",
       "95                    1.0  \n",
       "96                    1.0  \n",
       "97                    1.0  \n",
       "98                    1.0  \n",
       "99                    1.0  \n",
       "\n",
       "[100 rows x 8 columns]"
      ]
     },
     "execution_count": 52,
     "metadata": {},
     "output_type": "execute_result"
    }
   ],
   "source": [
    "# Nota: esta célula não é requerida para a função, tem fins didáticos!\n",
    "\n",
    "binaria = pd.get_dummies(dados_mca, columns=dados_mca.columns, dtype=float)\n",
    "binaria"
   ]
  },
  {
   "cell_type": "code",
   "execution_count": 53,
   "metadata": {},
   "outputs": [
    {
     "data": {
      "text/html": [
       "<div>\n",
       "<style scoped>\n",
       "    .dataframe tbody tr th:only-of-type {\n",
       "        vertical-align: middle;\n",
       "    }\n",
       "\n",
       "    .dataframe tbody tr th {\n",
       "        vertical-align: top;\n",
       "    }\n",
       "\n",
       "    .dataframe thead th {\n",
       "        text-align: right;\n",
       "    }\n",
       "</style>\n",
       "<table border=\"1\" class=\"dataframe\">\n",
       "  <thead>\n",
       "    <tr style=\"text-align: right;\">\n",
       "      <th></th>\n",
       "      <th>perfil_Agressivo</th>\n",
       "      <th>perfil_Conservador</th>\n",
       "      <th>perfil_Moderado</th>\n",
       "      <th>aplicacao_Acoes</th>\n",
       "      <th>aplicacao_CDB</th>\n",
       "      <th>aplicacao_Poupanca</th>\n",
       "      <th>estado.civil_Casado</th>\n",
       "      <th>estado.civil_Solteiro</th>\n",
       "    </tr>\n",
       "  </thead>\n",
       "  <tbody>\n",
       "    <tr>\n",
       "      <th>perfil_Agressivo</th>\n",
       "      <td>58.0</td>\n",
       "      <td>0.0</td>\n",
       "      <td>0.0</td>\n",
       "      <td>36.0</td>\n",
       "      <td>20.0</td>\n",
       "      <td>2.0</td>\n",
       "      <td>17.0</td>\n",
       "      <td>41.0</td>\n",
       "    </tr>\n",
       "    <tr>\n",
       "      <th>perfil_Conservador</th>\n",
       "      <td>0.0</td>\n",
       "      <td>17.0</td>\n",
       "      <td>0.0</td>\n",
       "      <td>5.0</td>\n",
       "      <td>4.0</td>\n",
       "      <td>8.0</td>\n",
       "      <td>12.0</td>\n",
       "      <td>5.0</td>\n",
       "    </tr>\n",
       "    <tr>\n",
       "      <th>perfil_Moderado</th>\n",
       "      <td>0.0</td>\n",
       "      <td>0.0</td>\n",
       "      <td>25.0</td>\n",
       "      <td>4.0</td>\n",
       "      <td>16.0</td>\n",
       "      <td>5.0</td>\n",
       "      <td>14.0</td>\n",
       "      <td>11.0</td>\n",
       "    </tr>\n",
       "    <tr>\n",
       "      <th>aplicacao_Acoes</th>\n",
       "      <td>36.0</td>\n",
       "      <td>5.0</td>\n",
       "      <td>4.0</td>\n",
       "      <td>45.0</td>\n",
       "      <td>0.0</td>\n",
       "      <td>0.0</td>\n",
       "      <td>9.0</td>\n",
       "      <td>36.0</td>\n",
       "    </tr>\n",
       "    <tr>\n",
       "      <th>aplicacao_CDB</th>\n",
       "      <td>20.0</td>\n",
       "      <td>4.0</td>\n",
       "      <td>16.0</td>\n",
       "      <td>0.0</td>\n",
       "      <td>40.0</td>\n",
       "      <td>0.0</td>\n",
       "      <td>24.0</td>\n",
       "      <td>16.0</td>\n",
       "    </tr>\n",
       "    <tr>\n",
       "      <th>aplicacao_Poupanca</th>\n",
       "      <td>2.0</td>\n",
       "      <td>8.0</td>\n",
       "      <td>5.0</td>\n",
       "      <td>0.0</td>\n",
       "      <td>0.0</td>\n",
       "      <td>15.0</td>\n",
       "      <td>10.0</td>\n",
       "      <td>5.0</td>\n",
       "    </tr>\n",
       "    <tr>\n",
       "      <th>estado.civil_Casado</th>\n",
       "      <td>17.0</td>\n",
       "      <td>12.0</td>\n",
       "      <td>14.0</td>\n",
       "      <td>9.0</td>\n",
       "      <td>24.0</td>\n",
       "      <td>10.0</td>\n",
       "      <td>43.0</td>\n",
       "      <td>0.0</td>\n",
       "    </tr>\n",
       "    <tr>\n",
       "      <th>estado.civil_Solteiro</th>\n",
       "      <td>41.0</td>\n",
       "      <td>5.0</td>\n",
       "      <td>11.0</td>\n",
       "      <td>36.0</td>\n",
       "      <td>16.0</td>\n",
       "      <td>5.0</td>\n",
       "      <td>0.0</td>\n",
       "      <td>57.0</td>\n",
       "    </tr>\n",
       "  </tbody>\n",
       "</table>\n",
       "</div>"
      ],
      "text/plain": [
       "                       perfil_Agressivo  perfil_Conservador  perfil_Moderado  \\\n",
       "perfil_Agressivo                   58.0                 0.0              0.0   \n",
       "perfil_Conservador                  0.0                17.0              0.0   \n",
       "perfil_Moderado                     0.0                 0.0             25.0   \n",
       "aplicacao_Acoes                    36.0                 5.0              4.0   \n",
       "aplicacao_CDB                      20.0                 4.0             16.0   \n",
       "aplicacao_Poupanca                  2.0                 8.0              5.0   \n",
       "estado.civil_Casado                17.0                12.0             14.0   \n",
       "estado.civil_Solteiro              41.0                 5.0             11.0   \n",
       "\n",
       "                       aplicacao_Acoes  aplicacao_CDB  aplicacao_Poupanca  \\\n",
       "perfil_Agressivo                  36.0           20.0                 2.0   \n",
       "perfil_Conservador                 5.0            4.0                 8.0   \n",
       "perfil_Moderado                    4.0           16.0                 5.0   \n",
       "aplicacao_Acoes                   45.0            0.0                 0.0   \n",
       "aplicacao_CDB                      0.0           40.0                 0.0   \n",
       "aplicacao_Poupanca                 0.0            0.0                15.0   \n",
       "estado.civil_Casado                9.0           24.0                10.0   \n",
       "estado.civil_Solteiro             36.0           16.0                 5.0   \n",
       "\n",
       "                       estado.civil_Casado  estado.civil_Solteiro  \n",
       "perfil_Agressivo                      17.0                   41.0  \n",
       "perfil_Conservador                    12.0                    5.0  \n",
       "perfil_Moderado                       14.0                   11.0  \n",
       "aplicacao_Acoes                        9.0                   36.0  \n",
       "aplicacao_CDB                         24.0                   16.0  \n",
       "aplicacao_Poupanca                    10.0                    5.0  \n",
       "estado.civil_Casado                   43.0                    0.0  \n",
       "estado.civil_Solteiro                  0.0                   57.0  "
      ]
     },
     "execution_count": 53,
     "metadata": {},
     "output_type": "execute_result"
    }
   ],
   "source": [
    "burt = np.matmul(np.transpose(binaria), binaria)\n",
    "burt"
   ]
  },
  {
   "cell_type": "code",
   "execution_count": 54,
   "metadata": {},
   "outputs": [
    {
     "name": "stdout",
     "output_type": "stream",
     "text": [
      "          eigenvalue % of variance % of variance (cumulative)\n",
      "component                                                    \n",
      "0              0.602        36.14%                     36.14%\n",
      "1              0.436        26.16%                     62.30%\n"
     ]
    }
   ],
   "source": [
    "# Obtendo os eigenvalues\n",
    "\n",
    "tabela_autovalores = mca.eigenvalues_summary\n",
    "\n",
    "print(tabela_autovalores)"
   ]
  },
  {
   "cell_type": "markdown",
   "metadata": {},
   "source": [
    "## Inércia principal total"
   ]
  },
  {
   "cell_type": "code",
   "execution_count": 55,
   "metadata": {},
   "outputs": [
    {
     "name": "stdout",
     "output_type": "stream",
     "text": [
      "1.6666666666666645\n"
     ]
    }
   ],
   "source": [
    "# Soma de todos os autovalores (todas as dimensões existentes)\n",
    "\n",
    "print(mca.total_inertia_)"
   ]
  },
  {
   "cell_type": "code",
   "execution_count": null,
   "metadata": {},
   "outputs": [
    {
     "data": {
      "text/plain": [
       "0.6228000000000008"
      ]
     },
     "execution_count": 64,
     "metadata": {},
     "output_type": "execute_result"
    }
   ],
   "source": [
    "# Cálculo do percentual de Inércia Acumulada como pode ser visto na tabela_autovalores\n",
    "\n",
    "(float(tabela_autovalores.iloc[0,0]) + float(tabela_autovalores.iloc[1,0])) / float(mca.total_inertia_)"
   ]
  },
  {
   "cell_type": "markdown",
   "metadata": {},
   "source": [
    "### Coordenadas Obtidas com a Matriz de Burt"
   ]
  },
  {
   "cell_type": "code",
   "execution_count": 65,
   "metadata": {},
   "outputs": [
    {
     "name": "stdout",
     "output_type": "stream",
     "text": [
      "                              0         1\n",
      "perfil_Agressivo      -0.653069 -0.014732\n",
      "perfil_Conservador     1.129970  1.483614\n",
      "perfil_Moderado        0.746741 -0.974679\n",
      "aplicacao_Acoes       -0.831258  0.387515\n",
      "aplicacao_CDB          0.417184 -0.935143\n",
      "aplicacao_Poupanca     1.381285  1.331169\n",
      "estado.civil_Casado    0.843172 -0.131145\n",
      "estado.civil_Solteiro -0.636077  0.098934\n"
     ]
    }
   ],
   "source": [
    "# Obtendo as coordenadas principais das categorias das variáveis\n",
    "\n",
    "coord_burt = mca.column_coordinates(dados_mca)\n",
    "\n",
    "print(coord_burt)"
   ]
  },
  {
   "cell_type": "markdown",
   "metadata": {},
   "source": [
    "### Coordenadas Obtidas com a Matriz Z"
   ]
  },
  {
   "cell_type": "code",
   "execution_count": 66,
   "metadata": {},
   "outputs": [
    {
     "name": "stdout",
     "output_type": "stream",
     "text": [
      "                              0         1\n",
      "perfil_Agressivo      -0.841494 -0.022312\n",
      "perfil_Conservador     1.455992  2.246900\n",
      "perfil_Moderado        0.962193 -1.476129\n",
      "aplicacao_Acoes       -1.071095  0.586883\n",
      "aplicacao_CDB          0.537550 -1.416253\n",
      "aplicacao_Poupanca     1.779816  2.016026\n",
      "estado.civil_Casado    1.086446 -0.198617\n",
      "estado.civil_Solteiro -0.819599  0.149834\n"
     ]
    }
   ],
   "source": [
    "# Obtendo as coordenadas-padrão das categorias das variáveis\n",
    "\n",
    "coord_padrao = mca.column_coordinates(dados_mca)/np.sqrt(mca.eigenvalues_)\n",
    "\n",
    "print(coord_padrao)"
   ]
  },
  {
   "cell_type": "markdown",
   "metadata": {},
   "source": [
    "## Obtendo as coordenadas das observações do banco de dados"
   ]
  },
  {
   "cell_type": "code",
   "execution_count": 67,
   "metadata": {},
   "outputs": [
    {
     "name": "stdout",
     "output_type": "stream",
     "text": [
      "           0         1\n",
      "0   1.440751  1.354770\n",
      "1   1.440751  1.354770\n",
      "2   1.440751  1.354770\n",
      "3   0.805403  1.470920\n",
      "4   1.440751  1.354770\n",
      "..       ...       ...\n",
      "95 -0.910729  0.238135\n",
      "96 -0.910729  0.238135\n",
      "97 -0.910729  0.238135\n",
      "98 -0.910729  0.238135\n",
      "99 -0.910729  0.238135\n",
      "\n",
      "[100 rows x 2 columns]\n"
     ]
    }
   ],
   "source": [
    "# Na função, as coordenadas das observações vêm das coordenadas-padrão\n",
    "\n",
    "coord_obs = mca.row_coordinates(dados_mca)\n",
    "\n",
    "print(coord_obs)"
   ]
  },
  {
   "cell_type": "code",
   "execution_count": null,
   "metadata": {},
   "outputs": [],
   "source": [
    "# Plotando o mapa perceptual (coordenadas-padrão)\n",
    "\n",
    "chart = coord_padrao.reset_index()\n",
    "\n",
    "var_chart = pd.Series(chart['index'].str.split('_', expand=True).iloc[:,0])"
   ]
  },
  {
   "cell_type": "code",
   "execution_count": 69,
   "metadata": {},
   "outputs": [
    {
     "data": {
      "image/png": "[encoded data removed]",
      "text/plain": [
       "<Figure size 640x480 with 1 Axes>"
      ]
     },
     "metadata": {},
     "output_type": "display_data"
    }
   ],
   "source": [
    "chart_df_mca = pd.DataFrame({'categoria': chart['index'],\n",
    "                             'obs_x': chart[0],\n",
    "                             'obs_y': chart[1],\n",
    "                             'variavel': var_chart})\n",
    "\n",
    "def label_point(x, y, val, ax):\n",
    "    a = pd.concat({'x': x, 'y': y, 'val': val}, axis=1)\n",
    "    for i, point in a.iterrows():\n",
    "        ax.text(point['x'] + 0.03, point['y'] - 0.02, point['val'], fontsize=5)\n",
    "\n",
    "label_point(x = chart_df_mca['obs_x'],\n",
    "            y = chart_df_mca['obs_y'],\n",
    "            val = chart_df_mca['categoria'],\n",
    "            ax = plt.gca())\n",
    "\n",
    "sns.scatterplot(data=chart_df_mca, x='obs_x', y='obs_y', hue='variavel', s=20)\n",
    "sns.despine(top=True, right=True, left=False, bottom=False)\n",
    "plt.axhline(y=0, color='lightgrey', ls='--', linewidth=0.8)\n",
    "plt.axvline(x=0, color='lightgrey', ls='--', linewidth=0.8)\n",
    "plt.tick_params(size=2, labelsize=6)\n",
    "plt.legend(bbox_to_anchor=(0,0), fancybox=True, shadow=True, fontsize = '6')\n",
    "plt.title(\"Mapa Perceptual - MCA\", fontsize=12)\n",
    "plt.xlabel(f\"Dim. 1: {tabela_autovalores.iloc[0,1]} da inércia\", fontsize=8)\n",
    "plt.ylabel(f\"Dim. 2: {tabela_autovalores.iloc[1,1]} da inércia\", fontsize=8)\n",
    "plt.show()"
   ]
  }
 ],
 "metadata": {
  "kernelspec": {
   "display_name": ".venv",
   "language": "python",
   "name": "python3"
  },
  "language_info": {
   "codemirror_mode": {
    "name": "ipython",
    "version": 3
   },
   "file_extension": ".py",
   "mimetype": "text/x-python",
   "name": "python",
   "nbconvert_exporter": "python",
   "pygments_lexer": "ipython3",
   "version": "3.12.3"
  }
 },
 "nbformat": 4,
 "nbformat_minor": 2
}
