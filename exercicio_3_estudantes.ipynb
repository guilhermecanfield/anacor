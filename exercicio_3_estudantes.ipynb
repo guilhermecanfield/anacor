{
 "cells": [
  {
   "cell_type": "code",
   "execution_count": 1,
   "metadata": {},
   "outputs": [],
   "source": [
    "import pandas as pd\n",
    "import numpy as np\n",
    "from scipy.stats import chi2_contingency\n",
    "import statsmodels.api as sm\n",
    "import seaborn as sns\n",
    "import matplotlib.pyplot as plt\n",
    "import prince\n",
    "import plotly.express as px\n",
    "import plotly.io as pio\n",
    "import plotly.graph_objects as go\n",
    "from itertools import combinations"
   ]
  },
  {
   "cell_type": "markdown",
   "metadata": {},
   "source": [
    "# Análise de Correspondência Múltipla (MCA)"
   ]
  },
  {
   "cell_type": "code",
   "execution_count": null,
   "metadata": {},
   "outputs": [],
   "source": [
    "dados_mca = pd.read_csv(\"data/estudantes_adapta.csv\")\n",
    "\n",
    "# Fonte: adaptado de https://www.kaggle.com/datasets/mdmahmudulhasansuzan/students-adaptability-level-in-online-education\n",
    "# Suzan et al.(2021) Students' Adaptability Level Prediction in Online Education using Machine Learning Approaches - DOI: 10.1109/ICCCNT51525.2021.9579741"
   ]
  },
  {
   "cell_type": "code",
   "execution_count": 3,
   "metadata": {},
   "outputs": [
    {
     "name": "stdout",
     "output_type": "stream",
     "text": [
      "Education\n",
      "School        530\n",
      "University    456\n",
      "College       219\n",
      "Name: count, dtype: int64 \n",
      "\n",
      "Institution\n",
      "Non Government    823\n",
      "Government        382\n",
      "Name: count, dtype: int64 \n",
      "\n",
      "Financial\n",
      "Mid     878\n",
      "Poor    242\n",
      "Rich     85\n",
      "Name: count, dtype: int64 \n",
      "\n",
      "Internet\n",
      "Mobile Data    695\n",
      "Wifi           510\n",
      "Name: count, dtype: int64 \n",
      "\n",
      "Adaptivity\n",
      "Moderate    625\n",
      "Low         480\n",
      "High        100\n",
      "Name: count, dtype: int64\n"
     ]
    }
   ],
   "source": [
    "# Tabelas de frequências das variáveis\n",
    "\n",
    "print(dados_mca['Education'].value_counts(), \"\\n\")\n",
    "print(dados_mca['Institution'].value_counts(), \"\\n\")\n",
    "print(dados_mca['Financial'].value_counts(), \"\\n\")\n",
    "print(dados_mca['Internet'].value_counts(), \"\\n\")\n",
    "print(dados_mca['Adaptivity'].value_counts())"
   ]
  },
  {
   "cell_type": "code",
   "execution_count": 5,
   "metadata": {},
   "outputs": [
    {
     "name": "stdout",
     "output_type": "stream",
     "text": [
      "Education   College  School  University\n",
      "Adaptivity                             \n",
      "High              3      47          50\n",
      "Low             120     182         178\n",
      "Moderate         96     301         228 \n",
      "\n",
      "Institution  Government  Non Government\n",
      "Adaptivity                             \n",
      "High                 20              80\n",
      "Low                 234             246\n",
      "Moderate            128             497 \n",
      "\n",
      "Financial   Mid  Poor  Rich\n",
      "Adaptivity                 \n",
      "High         36    22    42\n",
      "Low         341   129    10\n",
      "Moderate    501    91    33 \n",
      "\n",
      "Internet    Mobile Data  Wifi\n",
      "Adaptivity                   \n",
      "High                 36    64\n",
      "Low                 288   192\n",
      "Moderate            371   254 \n",
      "\n"
     ]
    }
   ],
   "source": [
    "# Analisando as tabelas de contingência\n",
    "\n",
    "# Gerando as tabelas de contingência em relação à \"Adaptivity\"\n",
    "\n",
    "tabela_mca_1 = pd.crosstab(dados_mca[\"Adaptivity\"], dados_mca[\"Education\"])\n",
    "tabela_mca_2 = pd.crosstab(dados_mca[\"Adaptivity\"], dados_mca[\"Institution\"])\n",
    "tabela_mca_3 = pd.crosstab(dados_mca[\"Adaptivity\"], dados_mca[\"Financial\"])\n",
    "tabela_mca_4 = pd.crosstab(dados_mca[\"Adaptivity\"], dados_mca[\"Internet\"])\n",
    "\n",
    "print(tabela_mca_1, \"\\n\")\n",
    "print(tabela_mca_2, \"\\n\")\n",
    "print(tabela_mca_3, \"\\n\")\n",
    "print(tabela_mca_4, \"\\n\")"
   ]
  },
  {
   "cell_type": "code",
   "execution_count": 11,
   "metadata": {},
   "outputs": [
    {
     "name": "stdout",
     "output_type": "stream",
     "text": [
      "Adaptivity x Internet\n",
      "estatística qui²: 21.04\n",
      "p-valor da estatística: 0.0\n",
      "graus de liberdade: 2\n",
      "----------------------------------------\n",
      "Adaptivity x Education\n",
      "estatística qui²: 38.69\n",
      "p-valor da estatística: 0.0\n",
      "graus de liberdade: 4\n",
      "----------------------------------------\n",
      "Adaptivity x Institution\n",
      "estatística qui²: 107.11\n",
      "p-valor da estatística: 0.0\n",
      "graus de liberdade: 2\n",
      "----------------------------------------\n",
      "Adaptivity x Financial\n",
      "estatística qui²: 236.86\n",
      "p-valor da estatística: 0.0\n",
      "graus de liberdade: 4\n",
      "----------------------------------------\n"
     ]
    }
   ],
   "source": [
    "# Analisando a significância estatística das associações (teste qui²)\n",
    "\n",
    "tab_4 = chi2_contingency(tabela_mca_4)\n",
    "\n",
    "print(\"Adaptivity x Internet\")\n",
    "print(f\"estatística qui²: {round(tab_4[0], 2)}\")\n",
    "print(f\"p-valor da estatística: {round(tab_4[1], 4)}\")\n",
    "print(f\"graus de liberdade: {tab_4[2]}\")\n",
    "print(\"-\"*40)\n",
    "\n",
    "tab_1 = chi2_contingency(tabela_mca_1)\n",
    "\n",
    "print(\"Adaptivity x Education\")\n",
    "print(f\"estatística qui²: {round(tab_1[0], 2)}\")\n",
    "print(f\"p-valor da estatística: {round(tab_1[1], 4)}\")\n",
    "print(f\"graus de liberdade: {tab_1[2]}\")\n",
    "print(\"-\"*40)\n",
    "\n",
    "tab_2 = chi2_contingency(tabela_mca_2)\n",
    "\n",
    "print(\"Adaptivity x Institution\")\n",
    "print(f\"estatística qui²: {round(tab_2[0], 2)}\")\n",
    "print(f\"p-valor da estatística: {round(tab_2[1], 4)}\")\n",
    "print(f\"graus de liberdade: {tab_2[2]}\")\n",
    "print(\"-\"*40)\n",
    "\n",
    "tab_3 = chi2_contingency(tabela_mca_3)\n",
    "\n",
    "print(\"Adaptivity x Financial\")\n",
    "print(f\"estatística qui²: {round(tab_3[0], 2)}\")\n",
    "print(f\"p-valor da estatística: {round(tab_3[1], 4)}\")\n",
    "print(f\"graus de liberdade: {tab_3[2]}\")\n",
    "print(\"-\"*40)"
   ]
  },
  {
   "cell_type": "markdown",
   "metadata": {},
   "source": [
    "**Parametrização da MCA para três dimensões. O objetivo é criar um mapa perceptual 3D**"
   ]
  },
  {
   "cell_type": "code",
   "execution_count": 9,
   "metadata": {},
   "outputs": [],
   "source": [
    "# Elaborando a MCA\n",
    "\n",
    "mca = prince.MCA(n_components=3).fit(dados_mca)"
   ]
  },
  {
   "cell_type": "markdown",
   "metadata": {},
   "source": [
    "## Quantidade total de dimensões\n",
    "\n",
    "### Quantidade de dimensões = qtde total de categorias - qtde de variáveis"
   ]
  },
  {
   "cell_type": "code",
   "execution_count": 10,
   "metadata": {},
   "outputs": [
    {
     "name": "stdout",
     "output_type": "stream",
     "text": [
      "quantidade total de categorias: 13\n",
      "quantidade de variáveis: 5\n",
      "quantidade de dimensões: 8\n"
     ]
    }
   ],
   "source": [
    "# Quantidade total de categorias\n",
    "mca.J_\n",
    "\n",
    "# Quantidade de variáveis na análise\n",
    "mca.K_\n",
    "\n",
    "# Quantidade de dimensões\n",
    "quant_dim = mca.J_ - mca.K_\n",
    "\n",
    "# Resumo das informações\n",
    "print(f\"quantidade total de categorias: {mca.J_}\")\n",
    "print(f\"quantidade de variáveis: {mca.K_}\")\n",
    "print(f\"quantidade de dimensões: {quant_dim}\")"
   ]
  },
  {
   "cell_type": "code",
   "execution_count": 12,
   "metadata": {},
   "outputs": [
    {
     "name": "stdout",
     "output_type": "stream",
     "text": [
      "          eigenvalue % of variance % of variance (cumulative)\n",
      "component                                                    \n",
      "0              0.321        20.06%                     20.06%\n",
      "1              0.308        19.24%                     39.30%\n",
      "2              0.258        16.10%                     55.40%\n"
     ]
    }
   ],
   "source": [
    "# Obtendo os eigenvalues\n",
    "\n",
    "tabela_autovalores = mca.eigenvalues_summary\n",
    "\n",
    "print(tabela_autovalores)"
   ]
  },
  {
   "cell_type": "markdown",
   "metadata": {},
   "source": [
    "## Inércia principal total"
   ]
  },
  {
   "cell_type": "code",
   "execution_count": 13,
   "metadata": {},
   "outputs": [
    {
     "name": "stdout",
     "output_type": "stream",
     "text": [
      "1.5999999999999586\n"
     ]
    }
   ],
   "source": [
    "# Soma de todos os autovalores (todas as dimensões existentes)\n",
    "\n",
    "print(mca.total_inertia_)"
   ]
  },
  {
   "cell_type": "markdown",
   "metadata": {},
   "source": [
    "## Média da inércia principal total por dimensão"
   ]
  },
  {
   "cell_type": "code",
   "execution_count": 15,
   "metadata": {},
   "outputs": [
    {
     "name": "stdout",
     "output_type": "stream",
     "text": [
      "0.19999999999999482\n"
     ]
    }
   ],
   "source": [
    "# É interessante plotar apenas dimensões com autovalores maiores do que a média\n",
    "\n",
    "print(mca.total_inertia_/quant_dim)"
   ]
  },
  {
   "cell_type": "markdown",
   "metadata": {},
   "source": [
    "**Não é interessante trabalhar com dimensões onde o eigenvalue é menor do que a média dos eigenvalues**\n",
    "\n",
    "*Neste caso, as 3 dimensões extraídas têm autovalores > 0.199*"
   ]
  },
  {
   "cell_type": "code",
   "execution_count": 16,
   "metadata": {},
   "outputs": [
    {
     "name": "stdout",
     "output_type": "stream",
     "text": [
      "                                   0         1         2\n",
      "Education_College          -1.266116  0.559165 -0.011469\n",
      "Education_School            0.476726 -0.675321  0.099547\n",
      "Education_University        0.053979  0.516366 -0.110193\n",
      "Institution_Government     -0.846907  0.380226  0.692520\n",
      "Institution_Non Government  0.393097 -0.176484 -0.321437\n",
      "Financial_Mid              -0.262792  0.125889 -0.393927\n",
      "Financial_Poor              0.245959 -1.023834  0.979460\n",
      "Financial_Rich              2.014228  1.614552  1.280454\n",
      "Internet_Mobile Data       -0.057200 -0.631284  0.212550\n",
      "Internet_Wifi               0.077949  0.860279 -0.289652\n",
      "Adaptivity_High             1.972304  1.324840  1.302384\n",
      "Adaptivity_Low             -0.676083 -0.030830  0.654504\n",
      "Adaptivity_Moderate         0.203663 -0.188297 -0.711041\n"
     ]
    }
   ],
   "source": [
    "# Obtendo as coordenadas principais das categorias das variáveis\n",
    "\n",
    "coord_burt = mca.column_coordinates(dados_mca)\n",
    "\n",
    "print(coord_burt)"
   ]
  },
  {
   "cell_type": "code",
   "execution_count": 17,
   "metadata": {},
   "outputs": [
    {
     "name": "stdout",
     "output_type": "stream",
     "text": [
      "                                   0         1         2\n",
      "Education_College          -2.234816  1.007914 -0.022596\n",
      "Education_School            0.841467 -1.217289  0.196122\n",
      "Education_University        0.095278  0.930767 -0.217097\n",
      "Institution_Government     -1.494873  0.685371  1.364369\n",
      "Institution_Non Government  0.693853 -0.318119 -0.633279\n",
      "Financial_Mid              -0.463853  0.226920 -0.776095\n",
      "Financial_Poor              0.434140 -1.845496  1.929683\n",
      "Financial_Rich              3.555306  2.910286  2.522688\n",
      "Internet_Mobile Data       -0.100964 -1.137912  0.418756\n",
      "Internet_Wifi               0.137588  1.550684 -0.570658\n",
      "Adaptivity_High             3.481307  2.388070  2.565894\n",
      "Adaptivity_Low             -1.193351 -0.055573  1.289472\n",
      "Adaptivity_Moderate         0.359485 -0.339411 -1.400858\n"
     ]
    }
   ],
   "source": [
    "# Obtendo as coordenadas-padrão das categorias das variáveis\n",
    "\n",
    "coord_padrao = mca.column_coordinates(dados_mca)/np.sqrt(mca.eigenvalues_)\n",
    "\n",
    "print(coord_padrao)"
   ]
  },
  {
   "cell_type": "markdown",
   "metadata": {},
   "source": [
    "### Obtendo as coordenadas das observações do banco de dados"
   ]
  },
  {
   "cell_type": "code",
   "execution_count": 18,
   "metadata": {},
   "outputs": [
    {
     "name": "stdout",
     "output_type": "stream",
     "text": [
      "             0         1         2\n",
      "0     0.164470  0.410168 -0.719597\n",
      "1     0.116760 -0.127551 -0.521715\n",
      "2    -0.739294  0.626296 -0.281168\n",
      "3     0.265998 -0.557162 -0.439071\n",
      "4     0.135029 -0.914878  0.640151\n",
      "...        ...       ...       ...\n",
      "1200 -0.612116  0.482365 -0.142631\n",
      "1201 -0.301548  0.425598 -0.680697\n",
      "1202  0.265998 -0.557162 -0.439071\n",
      "1203 -0.612116  0.482365 -0.142631\n",
      "1204  0.445596 -0.971645  0.102085\n",
      "\n",
      "[1205 rows x 3 columns]\n"
     ]
    }
   ],
   "source": [
    "# Na função, as coordenadas das observações vêm das coordenadas-padrão\n",
    "\n",
    "coord_obs = mca.row_coordinates(dados_mca)\n",
    "\n",
    "print(coord_obs)"
   ]
  },
  {
   "cell_type": "markdown",
   "metadata": {},
   "source": [
    "### Plotando o mapa perceptual (coordenadas-padrão)"
   ]
  },
  {
   "cell_type": "code",
   "execution_count": 19,
   "metadata": {},
   "outputs": [],
   "source": [
    "# Primeiro passo: gerar um DataFrame detalhado\n",
    "\n",
    "chart = coord_padrao.reset_index()\n",
    "\n",
    "var_chart = pd.Series(chart['index'].str.split('_', expand=True).iloc[:,0])\n",
    "\n",
    "nome_categ=[]\n",
    "for col in dados_mca:\n",
    "    nome_categ.append(dados_mca[col].sort_values(ascending=True).unique())\n",
    "    categorias = pd.DataFrame(nome_categ).stack().reset_index()\n",
    "\n",
    "chart_df_mca = pd.DataFrame({'categoria': chart['index'],\n",
    "                             'obs_x': chart[0],\n",
    "                             'obs_y': chart[1],\n",
    "                             'obs_z': chart[2],\n",
    "                             'variavel': var_chart,\n",
    "                             'categoria_id': categorias[0]})"
   ]
  },
  {
   "cell_type": "code",
   "execution_count": 20,
   "metadata": {},
   "outputs": [
    {
     "data": {
      "application/vnd.plotly.v1+json": {
       "config": {
        "plotlyServerURL": "https://plot.ly"
       },
       "data": [
        {
         "hovertemplate": "variavel=Education<br>obs_x=%{x}<br>obs_y=%{y}<br>obs_z=%{z}<br>categoria_id=%{text}<extra></extra>",
         "legendgroup": "Education",
         "marker": {
          "color": "#636efa",
          "symbol": "circle"
         },
         "mode": "markers+text",
         "name": "Education",
         "scene": "scene",
         "showlegend": true,
         "text": [
          "College",
          "School",
          "University"
         ],
         "type": "scatter3d",
         "x": [
          -2.234815538908486,
          0.8414672924383374,
          0.09527837286982344
         ],
         "y": [
          1.0079141072252398,
          -1.2172887227808789,
          0.9307671789288126
         ],
         "z": [
          -0.02259643464372015,
          0.1961220871930412,
          -0.21709668207310923
         ]
        },
        {
         "hovertemplate": "variavel=Institution<br>obs_x=%{x}<br>obs_y=%{y}<br>obs_z=%{z}<br>categoria_id=%{text}<extra></extra>",
         "legendgroup": "Institution",
         "marker": {
          "color": "#EF553B",
          "symbol": "circle"
         },
         "mode": "markers+text",
         "name": "Institution",
         "scene": "scene",
         "showlegend": true,
         "text": [
          "Government",
          "Non Government"
         ],
         "type": "scatter3d",
         "x": [
          -1.4948727303962848,
          0.6938534422981538
         ],
         "y": [
          0.6853711292767849,
          -0.318118798765166
         ],
         "z": [
          1.3643690407018991,
          -0.6332794332298008
         ]
        },
        {
         "hovertemplate": "variavel=Financial<br>obs_x=%{x}<br>obs_y=%{y}<br>obs_z=%{z}<br>categoria_id=%{text}<extra></extra>",
         "legendgroup": "Financial",
         "marker": {
          "color": "#00cc96",
          "symbol": "circle"
         },
         "mode": "markers+text",
         "name": "Financial",
         "scene": "scene",
         "showlegend": true,
         "text": [
          "Mid",
          "Poor",
          "Rich"
         ],
         "type": "scatter3d",
         "x": [
          -0.4638530690424838,
          0.43414037803785394,
          3.5553061545192937
         ],
         "y": [
          0.22692004819465825,
          -1.845496184461087,
          2.910285580290275
         ],
         "z": [
          -0.7760954976494963,
          1.9296834001694518,
          2.5226878128852883
         ]
        },
        {
         "hovertemplate": "variavel=Internet<br>obs_x=%{x}<br>obs_y=%{y}<br>obs_z=%{z}<br>categoria_id=%{text}<extra></extra>",
         "legendgroup": "Internet",
         "marker": {
          "color": "#ab63fa",
          "symbol": "circle"
         },
         "mode": "markers+text",
         "name": "Internet",
         "scene": "scene",
         "showlegend": true,
         "text": [
          "Mobile Data",
          "Wifi"
         ],
         "type": "scatter3d",
         "x": [
          -0.10096390669628638,
          0.13758806892925277
         ],
         "y": [
          -1.1379116726954905,
          1.5506835539673849
         ],
         "z": [
          0.4187560160914428,
          -0.5706577082030457
         ]
        },
        {
         "hovertemplate": "variavel=Adaptivity<br>obs_x=%{x}<br>obs_y=%{y}<br>obs_z=%{z}<br>categoria_id=%{text}<extra></extra>",
         "legendgroup": "Adaptivity",
         "marker": {
          "color": "#FFA15A",
          "symbol": "circle"
         },
         "mode": "markers+text",
         "name": "Adaptivity",
         "scene": "scene",
         "showlegend": true,
         "text": [
          "High",
          "Low",
          "Moderate"
         ],
         "type": "scatter3d",
         "x": [
          3.4813066876391305,
          -1.193351233638455,
          0.35948467741207235
         ],
         "y": [
          2.3880695988892944,
          -0.0555728386865678,
          -0.3394111957110028
         ],
         "z": [
          2.5658937167962153,
          1.289472229032752,
          -1.400857666584549
         ]
        }
       ],
       "layout": {
        "legend": {
         "title": {
          "text": "variavel"
         },
         "tracegroupgap": 0
        },
        "margin": {
         "t": 60
        },
        "scene": {
         "domain": {
          "x": [
           0,
           1
          ],
          "y": [
           0,
           1
          ]
         },
         "xaxis": {
          "title": {
           "text": "obs_x"
          }
         },
         "yaxis": {
          "title": {
           "text": "obs_y"
          }
         },
         "zaxis": {
          "title": {
           "text": "obs_z"
          }
         }
        },
        "template": {
         "data": {
          "bar": [
           {
            "error_x": {
             "color": "#2a3f5f"
            },
            "error_y": {
             "color": "#2a3f5f"
            },
            "marker": {
             "line": {
              "color": "#E5ECF6",
              "width": 0.5
             },
             "pattern": {
              "fillmode": "overlay",
              "size": 10,
              "solidity": 0.2
             }
            },
            "type": "bar"
           }
          ],
          "barpolar": [
           {
            "marker": {
             "line": {
              "color": "#E5ECF6",
              "width": 0.5
             },
             "pattern": {
              "fillmode": "overlay",
              "size": 10,
              "solidity": 0.2
             }
            },
            "type": "barpolar"
           }
          ],
          "carpet": [
           {
            "aaxis": {
             "endlinecolor": "#2a3f5f",
             "gridcolor": "white",
             "linecolor": "white",
             "minorgridcolor": "white",
             "startlinecolor": "#2a3f5f"
            },
            "baxis": {
             "endlinecolor": "#2a3f5f",
             "gridcolor": "white",
             "linecolor": "white",
             "minorgridcolor": "white",
             "startlinecolor": "#2a3f5f"
            },
            "type": "carpet"
           }
          ],
          "choropleth": [
           {
            "colorbar": {
             "outlinewidth": 0,
             "ticks": ""
            },
            "type": "choropleth"
           }
          ],
          "contour": [
           {
            "colorbar": {
             "outlinewidth": 0,
             "ticks": ""
            },
            "colorscale": [
             [
              0,
              "#0d0887"
             ],
             [
              0.1111111111111111,
              "#46039f"
             ],
             [
              0.2222222222222222,
              "#7201a8"
             ],
             [
              0.3333333333333333,
              "#9c179e"
             ],
             [
              0.4444444444444444,
              "#bd3786"
             ],
             [
              0.5555555555555556,
              "#d8576b"
             ],
             [
              0.6666666666666666,
              "#ed7953"
             ],
             [
              0.7777777777777778,
              "#fb9f3a"
             ],
             [
              0.8888888888888888,
              "#fdca26"
             ],
             [
              1,
              "#f0f921"
             ]
            ],
            "type": "contour"
           }
          ],
          "contourcarpet": [
           {
            "colorbar": {
             "outlinewidth": 0,
             "ticks": ""
            },
            "type": "contourcarpet"
           }
          ],
          "heatmap": [
           {
            "colorbar": {
             "outlinewidth": 0,
             "ticks": ""
            },
            "colorscale": [
             [
              0,
              "#0d0887"
             ],
             [
              0.1111111111111111,
              "#46039f"
             ],
             [
              0.2222222222222222,
              "#7201a8"
             ],
             [
              0.3333333333333333,
              "#9c179e"
             ],
             [
              0.4444444444444444,
              "#bd3786"
             ],
             [
              0.5555555555555556,
              "#d8576b"
             ],
             [
              0.6666666666666666,
              "#ed7953"
             ],
             [
              0.7777777777777778,
              "#fb9f3a"
             ],
             [
              0.8888888888888888,
              "#fdca26"
             ],
             [
              1,
              "#f0f921"
             ]
            ],
            "type": "heatmap"
           }
          ],
          "heatmapgl": [
           {
            "colorbar": {
             "outlinewidth": 0,
             "ticks": ""
            },
            "colorscale": [
             [
              0,
              "#0d0887"
             ],
             [
              0.1111111111111111,
              "#46039f"
             ],
             [
              0.2222222222222222,
              "#7201a8"
             ],
             [
              0.3333333333333333,
              "#9c179e"
             ],
             [
              0.4444444444444444,
              "#bd3786"
             ],
             [
              0.5555555555555556,
              "#d8576b"
             ],
             [
              0.6666666666666666,
              "#ed7953"
             ],
             [
              0.7777777777777778,
              "#fb9f3a"
             ],
             [
              0.8888888888888888,
              "#fdca26"
             ],
             [
              1,
              "#f0f921"
             ]
            ],
            "type": "heatmapgl"
           }
          ],
          "histogram": [
           {
            "marker": {
             "pattern": {
              "fillmode": "overlay",
              "size": 10,
              "solidity": 0.2
             }
            },
            "type": "histogram"
           }
          ],
          "histogram2d": [
           {
            "colorbar": {
             "outlinewidth": 0,
             "ticks": ""
            },
            "colorscale": [
             [
              0,
              "#0d0887"
             ],
             [
              0.1111111111111111,
              "#46039f"
             ],
             [
              0.2222222222222222,
              "#7201a8"
             ],
             [
              0.3333333333333333,
              "#9c179e"
             ],
             [
              0.4444444444444444,
              "#bd3786"
             ],
             [
              0.5555555555555556,
              "#d8576b"
             ],
             [
              0.6666666666666666,
              "#ed7953"
             ],
             [
              0.7777777777777778,
              "#fb9f3a"
             ],
             [
              0.8888888888888888,
              "#fdca26"
             ],
             [
              1,
              "#f0f921"
             ]
            ],
            "type": "histogram2d"
           }
          ],
          "histogram2dcontour": [
           {
            "colorbar": {
             "outlinewidth": 0,
             "ticks": ""
            },
            "colorscale": [
             [
              0,
              "#0d0887"
             ],
             [
              0.1111111111111111,
              "#46039f"
             ],
             [
              0.2222222222222222,
              "#7201a8"
             ],
             [
              0.3333333333333333,
              "#9c179e"
             ],
             [
              0.4444444444444444,
              "#bd3786"
             ],
             [
              0.5555555555555556,
              "#d8576b"
             ],
             [
              0.6666666666666666,
              "#ed7953"
             ],
             [
              0.7777777777777778,
              "#fb9f3a"
             ],
             [
              0.8888888888888888,
              "#fdca26"
             ],
             [
              1,
              "#f0f921"
             ]
            ],
            "type": "histogram2dcontour"
           }
          ],
          "mesh3d": [
           {
            "colorbar": {
             "outlinewidth": 0,
             "ticks": ""
            },
            "type": "mesh3d"
           }
          ],
          "parcoords": [
           {
            "line": {
             "colorbar": {
              "outlinewidth": 0,
              "ticks": ""
             }
            },
            "type": "parcoords"
           }
          ],
          "pie": [
           {
            "automargin": true,
            "type": "pie"
           }
          ],
          "scatter": [
           {
            "fillpattern": {
             "fillmode": "overlay",
             "size": 10,
             "solidity": 0.2
            },
            "type": "scatter"
           }
          ],
          "scatter3d": [
           {
            "line": {
             "colorbar": {
              "outlinewidth": 0,
              "ticks": ""
             }
            },
            "marker": {
             "colorbar": {
              "outlinewidth": 0,
              "ticks": ""
             }
            },
            "type": "scatter3d"
           }
          ],
          "scattercarpet": [
           {
            "marker": {
             "colorbar": {
              "outlinewidth": 0,
              "ticks": ""
             }
            },
            "type": "scattercarpet"
           }
          ],
          "scattergeo": [
           {
            "marker": {
             "colorbar": {
              "outlinewidth": 0,
              "ticks": ""
             }
            },
            "type": "scattergeo"
           }
          ],
          "scattergl": [
           {
            "marker": {
             "colorbar": {
              "outlinewidth": 0,
              "ticks": ""
             }
            },
            "type": "scattergl"
           }
          ],
          "scattermapbox": [
           {
            "marker": {
             "colorbar": {
              "outlinewidth": 0,
              "ticks": ""
             }
            },
            "type": "scattermapbox"
           }
          ],
          "scatterpolar": [
           {
            "marker": {
             "colorbar": {
              "outlinewidth": 0,
              "ticks": ""
             }
            },
            "type": "scatterpolar"
           }
          ],
          "scatterpolargl": [
           {
            "marker": {
             "colorbar": {
              "outlinewidth": 0,
              "ticks": ""
             }
            },
            "type": "scatterpolargl"
           }
          ],
          "scatterternary": [
           {
            "marker": {
             "colorbar": {
              "outlinewidth": 0,
              "ticks": ""
             }
            },
            "type": "scatterternary"
           }
          ],
          "surface": [
           {
            "colorbar": {
             "outlinewidth": 0,
             "ticks": ""
            },
            "colorscale": [
             [
              0,
              "#0d0887"
             ],
             [
              0.1111111111111111,
              "#46039f"
             ],
             [
              0.2222222222222222,
              "#7201a8"
             ],
             [
              0.3333333333333333,
              "#9c179e"
             ],
             [
              0.4444444444444444,
              "#bd3786"
             ],
             [
              0.5555555555555556,
              "#d8576b"
             ],
             [
              0.6666666666666666,
              "#ed7953"
             ],
             [
              0.7777777777777778,
              "#fb9f3a"
             ],
             [
              0.8888888888888888,
              "#fdca26"
             ],
             [
              1,
              "#f0f921"
             ]
            ],
            "type": "surface"
           }
          ],
          "table": [
           {
            "cells": {
             "fill": {
              "color": "#EBF0F8"
             },
             "line": {
              "color": "white"
             }
            },
            "header": {
             "fill": {
              "color": "#C8D4E3"
             },
             "line": {
              "color": "white"
             }
            },
            "type": "table"
           }
          ]
         },
         "layout": {
          "annotationdefaults": {
           "arrowcolor": "#2a3f5f",
           "arrowhead": 0,
           "arrowwidth": 1
          },
          "autotypenumbers": "strict",
          "coloraxis": {
           "colorbar": {
            "outlinewidth": 0,
            "ticks": ""
           }
          },
          "colorscale": {
           "diverging": [
            [
             0,
             "#8e0152"
            ],
            [
             0.1,
             "#c51b7d"
            ],
            [
             0.2,
             "#de77ae"
            ],
            [
             0.3,
             "#f1b6da"
            ],
            [
             0.4,
             "#fde0ef"
            ],
            [
             0.5,
             "#f7f7f7"
            ],
            [
             0.6,
             "#e6f5d0"
            ],
            [
             0.7,
             "#b8e186"
            ],
            [
             0.8,
             "#7fbc41"
            ],
            [
             0.9,
             "#4d9221"
            ],
            [
             1,
             "#276419"
            ]
           ],
           "sequential": [
            [
             0,
             "#0d0887"
            ],
            [
             0.1111111111111111,
             "#46039f"
            ],
            [
             0.2222222222222222,
             "#7201a8"
            ],
            [
             0.3333333333333333,
             "#9c179e"
            ],
            [
             0.4444444444444444,
             "#bd3786"
            ],
            [
             0.5555555555555556,
             "#d8576b"
            ],
            [
             0.6666666666666666,
             "#ed7953"
            ],
            [
             0.7777777777777778,
             "#fb9f3a"
            ],
            [
             0.8888888888888888,
             "#fdca26"
            ],
            [
             1,
             "#f0f921"
            ]
           ],
           "sequentialminus": [
            [
             0,
             "#0d0887"
            ],
            [
             0.1111111111111111,
             "#46039f"
            ],
            [
             0.2222222222222222,
             "#7201a8"
            ],
            [
             0.3333333333333333,
             "#9c179e"
            ],
            [
             0.4444444444444444,
             "#bd3786"
            ],
            [
             0.5555555555555556,
             "#d8576b"
            ],
            [
             0.6666666666666666,
             "#ed7953"
            ],
            [
             0.7777777777777778,
             "#fb9f3a"
            ],
            [
             0.8888888888888888,
             "#fdca26"
            ],
            [
             1,
             "#f0f921"
            ]
           ]
          },
          "colorway": [
           "#636efa",
           "#EF553B",
           "#00cc96",
           "#ab63fa",
           "#FFA15A",
           "#19d3f3",
           "#FF6692",
           "#B6E880",
           "#FF97FF",
           "#FECB52"
          ],
          "font": {
           "color": "#2a3f5f"
          },
          "geo": {
           "bgcolor": "white",
           "lakecolor": "white",
           "landcolor": "#E5ECF6",
           "showlakes": true,
           "showland": true,
           "subunitcolor": "white"
          },
          "hoverlabel": {
           "align": "left"
          },
          "hovermode": "closest",
          "mapbox": {
           "style": "light"
          },
          "paper_bgcolor": "white",
          "plot_bgcolor": "#E5ECF6",
          "polar": {
           "angularaxis": {
            "gridcolor": "white",
            "linecolor": "white",
            "ticks": ""
           },
           "bgcolor": "#E5ECF6",
           "radialaxis": {
            "gridcolor": "white",
            "linecolor": "white",
            "ticks": ""
           }
          },
          "scene": {
           "xaxis": {
            "backgroundcolor": "#E5ECF6",
            "gridcolor": "white",
            "gridwidth": 2,
            "linecolor": "white",
            "showbackground": true,
            "ticks": "",
            "zerolinecolor": "white"
           },
           "yaxis": {
            "backgroundcolor": "#E5ECF6",
            "gridcolor": "white",
            "gridwidth": 2,
            "linecolor": "white",
            "showbackground": true,
            "ticks": "",
            "zerolinecolor": "white"
           },
           "zaxis": {
            "backgroundcolor": "#E5ECF6",
            "gridcolor": "white",
            "gridwidth": 2,
            "linecolor": "white",
            "showbackground": true,
            "ticks": "",
            "zerolinecolor": "white"
           }
          },
          "shapedefaults": {
           "line": {
            "color": "#2a3f5f"
           }
          },
          "ternary": {
           "aaxis": {
            "gridcolor": "white",
            "linecolor": "white",
            "ticks": ""
           },
           "baxis": {
            "gridcolor": "white",
            "linecolor": "white",
            "ticks": ""
           },
           "bgcolor": "#E5ECF6",
           "caxis": {
            "gridcolor": "white",
            "linecolor": "white",
            "ticks": ""
           }
          },
          "title": {
           "x": 0.05
          },
          "xaxis": {
           "automargin": true,
           "gridcolor": "white",
           "linecolor": "white",
           "ticks": "",
           "title": {
            "standoff": 15
           },
           "zerolinecolor": "white",
           "zerolinewidth": 2
          },
          "yaxis": {
           "automargin": true,
           "gridcolor": "white",
           "linecolor": "white",
           "ticks": "",
           "title": {
            "standoff": 15
           },
           "zerolinecolor": "white",
           "zerolinewidth": 2
          }
         }
        }
       }
      }
     },
     "metadata": {},
     "output_type": "display_data"
    }
   ],
   "source": [
    "# Segundo passo: gerar o gráfico de pontos\n",
    "\n",
    "fig = px.scatter_3d(chart_df_mca, \n",
    "                    x='obs_x', \n",
    "                    y='obs_y', \n",
    "                    z='obs_z',\n",
    "                    color='variavel',\n",
    "                    text=chart_df_mca.categoria_id)\n",
    "fig.show()"
   ]
  }
 ],
 "metadata": {
  "kernelspec": {
   "display_name": ".venv",
   "language": "python",
   "name": "python3"
  },
  "language_info": {
   "codemirror_mode": {
    "name": "ipython",
    "version": 3
   },
   "file_extension": ".py",
   "mimetype": "text/x-python",
   "name": "python",
   "nbconvert_exporter": "python",
   "pygments_lexer": "ipython3",
   "version": "3.12.3"
  }
 },
 "nbformat": 4,
 "nbformat_minor": 2
}
